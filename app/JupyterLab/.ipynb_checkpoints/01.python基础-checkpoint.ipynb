{
 "cells": [
  {
   "cell_type": "markdown",
   "id": "f4f55a59-9a9f-4b21-aa1c-dc757c5ee417",
   "metadata": {},
   "source": [
    "# Python 数值运算"
   ]
  },
  {
   "cell_type": "markdown",
   "id": "cbc21ab0-1b56-4dd4-b9fe-12f51f2fdc2b",
   "metadata": {},
   "source": [
    "## 数值类型"
   ]
  },
  {
   "cell_type": "code",
   "execution_count": 4,
   "id": "2f1d971e-27d9-4255-a3f8-bbc4ceb19ba7",
   "metadata": {},
   "outputs": [
    {
     "name": "stdout",
     "output_type": "stream",
     "text": [
      "4\n"
     ]
    },
    {
     "data": {
      "text/plain": [
       "2"
      ]
     },
     "execution_count": 4,
     "metadata": {},
     "output_type": "execute_result"
    }
   ],
   "source": [
    "print(2+2)\n",
    "1+1"
   ]
  },
  {
   "cell_type": "code",
   "execution_count": 8,
   "id": "b0771df2-14b0-4aa9-b008-79e23af875b8",
   "metadata": {},
   "outputs": [
    {
     "data": {
      "text/plain": [
       "20"
      ]
     },
     "execution_count": 8,
     "metadata": {},
     "output_type": "execute_result"
    }
   ],
   "source": [
    "4*5"
   ]
  },
  {
   "cell_type": "code",
   "execution_count": 6,
   "id": "350a1b05-c0ca-4e26-b88a-2b950ae2a4f7",
   "metadata": {},
   "outputs": [
    {
     "data": {
      "text/plain": [
       "3.3333333333333335"
      ]
     },
     "execution_count": 6,
     "metadata": {},
     "output_type": "execute_result"
    }
   ],
   "source": [
    "10/3"
   ]
  },
  {
   "cell_type": "code",
   "execution_count": 11,
   "id": "7e3ec80e-5d1b-4b97-93e8-f94977770cba",
   "metadata": {},
   "outputs": [
    {
     "data": {
      "text/plain": [
       "1"
      ]
     },
     "execution_count": 11,
     "metadata": {},
     "output_type": "execute_result"
    }
   ],
   "source": [
    "10%3"
   ]
  },
  {
   "cell_type": "code",
   "execution_count": 13,
   "id": "3f7438a0-cc10-40c1-b6d6-4fe3cbda343e",
   "metadata": {},
   "outputs": [
    {
     "data": {
      "text/plain": [
       "8"
      ]
     },
     "execution_count": 13,
     "metadata": {},
     "output_type": "execute_result"
    }
   ],
   "source": [
    "2**3"
   ]
  },
  {
   "cell_type": "code",
   "execution_count": 21,
   "id": "d6a55e42-7c30-4742-ad6f-f7fc4ab9b858",
   "metadata": {},
   "outputs": [
    {
     "data": {
      "text/plain": [
       "9"
      ]
     },
     "execution_count": 21,
     "metadata": {},
     "output_type": "execute_result"
    }
   ],
   "source": [
    "tang=3*3\n",
    "tang"
   ]
  },
  {
   "cell_type": "code",
   "execution_count": 25,
   "id": "5617549f-b9bb-407f-b014-d620ceead9f7",
   "metadata": {},
   "outputs": [
    {
     "data": {
      "text/plain": [
       "int"
      ]
     },
     "execution_count": 25,
     "metadata": {},
     "output_type": "execute_result"
    }
   ],
   "source": [
    "type(tang) #打印类型"
   ]
  },
  {
   "cell_type": "code",
   "execution_count": 39,
   "id": "32eb5f89-56e9-4117-8d93-91bcaf658dd3",
   "metadata": {},
   "outputs": [
    {
     "data": {
      "text/plain": [
       "float"
      ]
     },
     "execution_count": 39,
     "metadata": {},
     "output_type": "execute_result"
    }
   ],
   "source": [
    "t = 1.5\n",
    "type(t)"
   ]
  },
  {
   "cell_type": "markdown",
   "id": "3c885bc6-19e1-4c94-a815-ded62cc94634",
   "metadata": {},
   "source": [
    "类型转换"
   ]
  },
  {
   "cell_type": "code",
   "execution_count": 43,
   "id": "29fefec6-2c85-486a-bde9-5570f14cf6e9",
   "metadata": {},
   "outputs": [
    {
     "data": {
      "text/plain": [
       "float"
      ]
     },
     "execution_count": 43,
     "metadata": {},
     "output_type": "execute_result"
    }
   ],
   "source": [
    "t =1.5\n",
    "type(t)"
   ]
  },
  {
   "cell_type": "code",
   "execution_count": 45,
   "id": "4b252c3f-8947-4b29-9ad0-20de3043eeca",
   "metadata": {},
   "outputs": [
    {
     "data": {
      "text/plain": [
       "'1.5'"
      ]
     },
     "execution_count": 45,
     "metadata": {},
     "output_type": "execute_result"
    }
   ],
   "source": [
    "str(t)"
   ]
  },
  {
   "cell_type": "code",
   "execution_count": 47,
   "id": "5f5e1b26-14de-4e87-bc4f-308482e526d6",
   "metadata": {},
   "outputs": [
    {
     "data": {
      "text/plain": [
       "1"
      ]
     },
     "execution_count": 47,
     "metadata": {},
     "output_type": "execute_result"
    }
   ],
   "source": [
    "int(t)"
   ]
  },
  {
   "cell_type": "code",
   "execution_count": 51,
   "id": "8a1e0f95-6478-4d8b-a978-9ed1628f8b45",
   "metadata": {},
   "outputs": [
    {
     "data": {
      "text/plain": [
       "-15.6"
      ]
     },
     "execution_count": 51,
     "metadata": {},
     "output_type": "execute_result"
    }
   ],
   "source": [
    "(-15.6)"
   ]
  },
  {
   "cell_type": "code",
   "execution_count": 53,
   "id": "1916cc7e-b2b8-4fd8-93bf-fc927edccccf",
   "metadata": {},
   "outputs": [
    {
     "data": {
      "text/plain": [
       "15.6"
      ]
     },
     "execution_count": 53,
     "metadata": {},
     "output_type": "execute_result"
    }
   ],
   "source": [
    "abs(-15.6)"
   ]
  },
  {
   "cell_type": "code",
   "execution_count": 55,
   "id": "b2bcda3c-9bbf-45da-99e6-0869f0094fac",
   "metadata": {},
   "outputs": [
    {
     "data": {
      "text/plain": [
       "2"
      ]
     },
     "execution_count": 55,
     "metadata": {},
     "output_type": "execute_result"
    }
   ],
   "source": [
    "min(11,2,3,4,5,6)"
   ]
  },
  {
   "cell_type": "code",
   "execution_count": 57,
   "id": "737a425c-6c2b-4db2-ab9c-0ae4489489f8",
   "metadata": {},
   "outputs": [
    {
     "data": {
      "text/plain": [
       "1"
      ]
     },
     "execution_count": 57,
     "metadata": {},
     "output_type": "execute_result"
    }
   ],
   "source": [
    "round(1.3)"
   ]
  },
  {
   "cell_type": "code",
   "execution_count": 65,
   "id": "ed4ef126-5efc-4208-ad76-41c94941d3ca",
   "metadata": {},
   "outputs": [
    {
     "data": {
      "text/plain": [
       "130000.0"
      ]
     },
     "execution_count": 65,
     "metadata": {},
     "output_type": "execute_result"
    }
   ],
   "source": [
    "1.3e5"
   ]
  },
  {
   "cell_type": "code",
   "execution_count": 67,
   "id": "56f26179-1f64-4787-8f32-e6902f062017",
   "metadata": {},
   "outputs": [
    {
     "data": {
      "text/plain": [
       "255"
      ]
     },
     "execution_count": 67,
     "metadata": {},
     "output_type": "execute_result"
    }
   ],
   "source": [
    "0xff"
   ]
  },
  {
   "cell_type": "markdown",
   "id": "bc62f0d4-82b6-4783-be22-0240081cff7d",
   "metadata": {},
   "source": [
    "## Bool类型"
   ]
  },
  {
   "cell_type": "code",
   "execution_count": 75,
   "id": "ccd6a98e-7a35-4a87-85d9-61008cb561a8",
   "metadata": {},
   "outputs": [
    {
     "data": {
      "text/plain": [
       "True"
      ]
     },
     "execution_count": 75,
     "metadata": {},
     "output_type": "execute_result"
    }
   ],
   "source": [
    "y=True\n",
    "y"
   ]
  },
  {
   "cell_type": "code",
   "execution_count": 77,
   "id": "ccc328fa-508a-4cb7-b678-6904dbf9e8ce",
   "metadata": {},
   "outputs": [
    {
     "data": {
      "text/plain": [
       "bool"
      ]
     },
     "execution_count": 77,
     "metadata": {},
     "output_type": "execute_result"
    }
   ],
   "source": [
    "type(y)"
   ]
  },
  {
   "cell_type": "markdown",
   "id": "a81af84c-4053-4e4c-a683-e74f72e38af1",
   "metadata": {},
   "source": [
    "## 字符串操作"
   ]
  },
  {
   "cell_type": "code",
   "execution_count": 90,
   "id": "311dd142-cf5e-4e4c-aa8a-79bc6341e061",
   "metadata": {},
   "outputs": [
    {
     "data": {
      "text/plain": [
       "'dssdssdss'"
      ]
     },
     "execution_count": 90,
     "metadata": {},
     "output_type": "execute_result"
    }
   ],
   "source": [
    "duan='dss'\n",
    "duan*3"
   ]
  },
  {
   "cell_type": "code",
   "execution_count": 92,
   "id": "979b0569-c378-4e4f-a09f-a1ddfb2c4151",
   "metadata": {},
   "outputs": [
    {
     "data": {
      "text/plain": [
       "3"
      ]
     },
     "execution_count": 92,
     "metadata": {},
     "output_type": "execute_result"
    }
   ],
   "source": [
    "len(duan)"
   ]
  },
  {
   "cell_type": "code",
   "execution_count": 94,
   "id": "8c424de9-e5d8-4684-9bd2-7b22ca134862",
   "metadata": {},
   "outputs": [
    {
     "data": {
      "text/plain": [
       "'sssrrr'"
      ]
     },
     "execution_count": 94,
     "metadata": {},
     "output_type": "execute_result"
    }
   ],
   "source": [
    "'sss'+'rrr'"
   ]
  },
  {
   "cell_type": "code",
   "execution_count": 106,
   "id": "2834d42d-a03f-410b-b87d-044ce2e55040",
   "metadata": {},
   "outputs": [
    {
     "data": {
      "text/plain": [
       "['1', '2', '3', '4', '5']"
      ]
     },
     "execution_count": 106,
     "metadata": {},
     "output_type": "execute_result"
    }
   ],
   "source": [
    "duan='1 2 3 4 5'\n",
    "duan.split(' ')"
   ]
  },
  {
   "cell_type": "code",
   "execution_count": 114,
   "id": "bf6d7bf7-8ba6-434d-9d86-d4b430beb9b8",
   "metadata": {},
   "outputs": [
    {
     "data": {
      "text/plain": [
       "'12345'"
      ]
     },
     "execution_count": 114,
     "metadata": {},
     "output_type": "execute_result"
    }
   ],
   "source": [
    "''.join(duan.split(' '))"
   ]
  },
  {
   "cell_type": "code",
   "execution_count": 118,
   "id": "9a2c0093-b30a-41a7-b761-c96c6cd5fe26",
   "metadata": {},
   "outputs": [
    {
     "data": {
      "text/plain": [
       "'hello world'"
      ]
     },
     "execution_count": 118,
     "metadata": {},
     "output_type": "execute_result"
    }
   ],
   "source": [
    "'hello python'.replace('python','world')"
   ]
  },
  {
   "cell_type": "code",
   "execution_count": 120,
   "id": "91a18d28-5d21-4995-95a9-07ea970fe472",
   "metadata": {},
   "outputs": [
    {
     "data": {
      "text/plain": [
       "'HELLO PYTHON'"
      ]
     },
     "execution_count": 120,
     "metadata": {},
     "output_type": "execute_result"
    }
   ],
   "source": [
    "'hello python'.upper()"
   ]
  },
  {
   "cell_type": "code",
   "execution_count": 122,
   "id": "cd18c85a-f38b-4869-ba3e-5f9fd3d9d781",
   "metadata": {},
   "outputs": [
    {
     "data": {
      "text/plain": [
       "'hello python'"
      ]
     },
     "execution_count": 122,
     "metadata": {},
     "output_type": "execute_result"
    }
   ],
   "source": [
    "'HELLO PYTHON'.lower()"
   ]
  },
  {
   "cell_type": "code",
   "execution_count": 124,
   "id": "1ab0b952-0e6d-492c-8773-3f0c8dcdf043",
   "metadata": {},
   "outputs": [
    {
     "data": {
      "text/plain": [
       "'adf'"
      ]
     },
     "execution_count": 124,
     "metadata": {},
     "output_type": "execute_result"
    }
   ],
   "source": [
    "'  adf  '.strip()"
   ]
  },
  {
   "cell_type": "code",
   "execution_count": 128,
   "id": "b3f6bcd3-49ed-4616-aaaf-f65388b0fdc8",
   "metadata": {},
   "outputs": [
    {
     "data": {
      "text/plain": [
       "'aaa  '"
      ]
     },
     "execution_count": 128,
     "metadata": {},
     "output_type": "execute_result"
    }
   ],
   "source": [
    "'   aaa  '.lstrip()"
   ]
  },
  {
   "cell_type": "code",
   "execution_count": 130,
   "id": "5522b3b9-663d-4d66-885a-5ec4f9c14c36",
   "metadata": {},
   "outputs": [
    {
     "data": {
      "text/plain": [
       "'  ddd'"
      ]
     },
     "execution_count": 130,
     "metadata": {},
     "output_type": "execute_result"
    }
   ],
   "source": [
    "'  ddd  '.rstrip()"
   ]
  },
  {
   "cell_type": "code",
   "execution_count": 132,
   "id": "96244690-674b-4f50-bb75-599e97114dc9",
   "metadata": {},
   "outputs": [
    {
     "data": {
      "text/plain": [
       "'dss aa bbb'"
      ]
     },
     "execution_count": 132,
     "metadata": {},
     "output_type": "execute_result"
    }
   ],
   "source": [
    "'{} {} {}'.format('dss','aa','bbb')"
   ]
  },
  {
   "cell_type": "code",
   "execution_count": 134,
   "id": "4e978ca9-9adb-4502-91b6-8877c6f15a7b",
   "metadata": {},
   "outputs": [
    {
     "data": {
      "text/plain": [
       "'bbb aa dss'"
      ]
     },
     "execution_count": 134,
     "metadata": {},
     "output_type": "execute_result"
    }
   ],
   "source": [
    "'{2} {1} {0}'.format('dss','aa','bbb')"
   ]
  },
  {
   "cell_type": "code",
   "execution_count": 136,
   "id": "60734242-7bf5-4d9f-8c99-883c02906c21",
   "metadata": {},
   "outputs": [
    {
     "data": {
      "text/plain": [
       "'bbb dss aa'"
      ]
     },
     "execution_count": 136,
     "metadata": {},
     "output_type": "execute_result"
    }
   ],
   "source": [
    "'{dss} {yu} {di}'.format(yu='dss',di='aa',dss='bbb')"
   ]
  },
  {
   "cell_type": "code",
   "execution_count": 150,
   "id": "4f9e958c-f4a7-495b-a598-7f83352b58ac",
   "metadata": {},
   "outputs": [
    {
     "data": {
      "text/plain": [
       "'dss shuai shuai; 456.000000 789 '"
      ]
     },
     "execution_count": 150,
     "metadata": {},
     "output_type": "execute_result"
    }
   ],
   "source": [
    "dss='dss shuai shuai;'\n",
    "b=456.0\n",
    "c=789\n",
    "result ='%s %f %d ' % (dss,b,c)\n",
    "result"
   ]
  },
  {
   "cell_type": "markdown",
   "id": "6c00e7e1-dbfd-422e-956b-6b232b8cc084",
   "metadata": {},
   "source": [
    "## 索引结构"
   ]
  },
  {
   "cell_type": "code",
   "execution_count": 153,
   "id": "ea064a27-1a02-496c-9e33-f17717ec495f",
   "metadata": {},
   "outputs": [
    {
     "data": {
      "text/plain": [
       "'d'"
      ]
     },
     "execution_count": 153,
     "metadata": {},
     "output_type": "execute_result"
    }
   ],
   "source": [
    "dss='dss shuaishui'\n",
    "dss[0]"
   ]
  },
  {
   "cell_type": "code",
   "execution_count": 155,
   "id": "ca437cf4-47e8-4d53-b80a-c5e42fe5a650",
   "metadata": {},
   "outputs": [
    {
     "ename": "IndexError",
     "evalue": "string index out of range",
     "output_type": "error",
     "traceback": [
      "\u001b[0;31m---------------------------------------------------------------------------\u001b[0m",
      "\u001b[0;31mIndexError\u001b[0m                                Traceback (most recent call last)",
      "Cell \u001b[0;32mIn[155], line 2\u001b[0m\n\u001b[1;32m      1\u001b[0m dss\u001b[38;5;241m=\u001b[39m\u001b[38;5;124m'\u001b[39m\u001b[38;5;124mdss shuaishui\u001b[39m\u001b[38;5;124m'\u001b[39m\n\u001b[0;32m----> 2\u001b[0m dss[\u001b[38;5;241m1000\u001b[39m]\n",
      "\u001b[0;31mIndexError\u001b[0m: string index out of range"
     ]
    }
   ],
   "source": [
    "dss='dss shuaishui' #不能越界\n",
    "dss[1000]"
   ]
  },
  {
   "cell_type": "code",
   "execution_count": 157,
   "id": "700c2868-23c6-4b4b-9822-3b4b93ace669",
   "metadata": {},
   "outputs": [
    {
     "data": {
      "text/plain": [
       "'d'"
      ]
     },
     "execution_count": 157,
     "metadata": {},
     "output_type": "execute_result"
    }
   ],
   "source": [
    "dss='dss shuaishui' #不能越界\n",
    "dss[0:1]"
   ]
  },
  {
   "cell_type": "code",
   "execution_count": 161,
   "id": "ad0679d9-71f8-499b-aef1-a441dffc8af7",
   "metadata": {},
   "outputs": [
    {
     "data": {
      "text/plain": [
       "'huaishui'"
      ]
     },
     "execution_count": 161,
     "metadata": {},
     "output_type": "execute_result"
    }
   ],
   "source": [
    "dss[5:]"
   ]
  },
  {
   "cell_type": "code",
   "execution_count": 163,
   "id": "cb90cd36-72c0-46b6-a467-898b098599af",
   "metadata": {},
   "outputs": [
    {
     "data": {
      "text/plain": [
       "'dss s'"
      ]
     },
     "execution_count": 163,
     "metadata": {},
     "output_type": "execute_result"
    }
   ],
   "source": [
    "dss[:5]"
   ]
  },
  {
   "cell_type": "code",
   "execution_count": 165,
   "id": "30ffc1b6-7eb0-4b5a-9efc-a0fae56915ba",
   "metadata": {},
   "outputs": [
    {
     "data": {
      "text/plain": [
       "'ss shuaish'"
      ]
     },
     "execution_count": 165,
     "metadata": {},
     "output_type": "execute_result"
    }
   ],
   "source": [
    "dss[1:-2]"
   ]
  },
  {
   "cell_type": "code",
   "execution_count": 167,
   "id": "d6e8d08b-f9ca-40ef-859a-49b628ef6645",
   "metadata": {},
   "outputs": [
    {
     "data": {
      "text/plain": [
       "'dss shuaishui'"
      ]
     },
     "execution_count": 167,
     "metadata": {},
     "output_type": "execute_result"
    }
   ],
   "source": [
    "dss[:]"
   ]
  },
  {
   "cell_type": "code",
   "execution_count": 169,
   "id": "b2f65798-320d-4637-987f-845346edbb23",
   "metadata": {},
   "outputs": [
    {
     "data": {
      "text/plain": [
       "'dssuihi'"
      ]
     },
     "execution_count": 169,
     "metadata": {},
     "output_type": "execute_result"
    }
   ],
   "source": [
    "dss[::2]"
   ]
  },
  {
   "cell_type": "markdown",
   "id": "dd085bc9-4504-471d-8a29-8af5848b5528",
   "metadata": {},
   "source": [
    "## List 接口"
   ]
  },
  {
   "cell_type": "code",
   "execution_count": 180,
   "id": "6d0ed56b-ab7f-44a8-80e3-7fe3636eac74",
   "metadata": {},
   "outputs": [
    {
     "data": {
      "text/plain": [
       "[1, 2, 3, '33', 'ddd']"
      ]
     },
     "execution_count": 180,
     "metadata": {},
     "output_type": "execute_result"
    }
   ],
   "source": [
    "dss=[1,2,3,'33','ddd']\n",
    "type(dss)\n",
    "dss=list([1,2,3,'33','ddd'])\n",
    "dss"
   ]
  },
  {
   "cell_type": "markdown",
   "id": "70d00552-210d-481e-afc5-6d775ac8173b",
   "metadata": {},
   "source": [
    "### list 操作"
   ]
  },
  {
   "cell_type": "code",
   "execution_count": 209,
   "id": "57e15057-6ad5-4c0f-8a71-9beca6121830",
   "metadata": {},
   "outputs": [
    {
     "data": {
      "text/plain": [
       "['d']"
      ]
     },
     "execution_count": 209,
     "metadata": {},
     "output_type": "execute_result"
    }
   ],
   "source": [
    "len(dss)\n",
    "a=[1,2]\n",
    "b=[3,4]\n",
    "c=a+b\n",
    "d=c*4\n",
    "d[0]='222'\n",
    "d[0]\n",
    "a[:]=['d']\n",
    "a\n"
   ]
  },
  {
   "cell_type": "code",
   "execution_count": 229,
   "id": "adbabb4a-3efc-4a81-b442-a6c9500adf4f",
   "metadata": {},
   "outputs": [
    {
     "data": {
      "text/plain": [
       "[2, 3, 4, 5, 6]"
      ]
     },
     "execution_count": 229,
     "metadata": {},
     "output_type": "execute_result"
    }
   ],
   "source": [
    "a=[1,2,3,4,5,6]\n",
    "del a[0]\n",
    "a"
   ]
  },
  {
   "cell_type": "code",
   "execution_count": 235,
   "id": "dc610cc8-ad4f-466f-b13a-1feaf07eb1ee",
   "metadata": {},
   "outputs": [
    {
     "data": {
      "text/plain": [
       "True"
      ]
     },
     "execution_count": 235,
     "metadata": {},
     "output_type": "execute_result"
    }
   ],
   "source": [
    "a=[1,2,3,4,5,6]\n",
    "6 in a\n",
    "8 not in a"
   ]
  },
  {
   "cell_type": "code",
   "execution_count": 237,
   "id": "e160a18f-783d-458a-bb93-4de5fa713cf2",
   "metadata": {},
   "outputs": [
    {
     "data": {
      "text/plain": [
       "True"
      ]
     },
     "execution_count": 237,
     "metadata": {},
     "output_type": "execute_result"
    }
   ],
   "source": [
    "'tang' in 'tang is T'"
   ]
  },
  {
   "cell_type": "code",
   "execution_count": 3,
   "id": "78ac5f74-3e8e-4689-b193-31e04197bc6a",
   "metadata": {},
   "outputs": [
    {
     "data": {
      "text/plain": [
       "[1, 2, 3, 12, 3, 4]"
      ]
     },
     "execution_count": 3,
     "metadata": {},
     "output_type": "execute_result"
    }
   ],
   "source": [
    "list1=[12,3,4]\n",
    "list2=[1,2,3]\n",
    "list2.extend(list1)\n",
    "list2"
   ]
  },
  {
   "cell_type": "code",
   "execution_count": 25,
   "id": "0de0f12e-4d25-4069-9dab-631c825dc635",
   "metadata": {},
   "outputs": [
    {
     "data": {
      "text/plain": [
       "True"
      ]
     },
     "execution_count": 25,
     "metadata": {},
     "output_type": "execute_result"
    }
   ],
   "source": [
    "0 in range(10)"
   ]
  },
  {
   "cell_type": "markdown",
   "id": "f1169148-8e5e-470b-ae2f-d32e25b74a4d",
   "metadata": {},
   "source": [
    "## 字典结构"
   ]
  },
  {
   "cell_type": "code",
   "execution_count": 16,
   "id": "3e7657e1-83cb-4cc6-93e5-07e9849a0f3a",
   "metadata": {},
   "outputs": [
    {
     "data": {
      "text/plain": [
       "'11'"
      ]
     },
     "execution_count": 16,
     "metadata": {},
     "output_type": "execute_result"
    }
   ],
   "source": [
    "dss=dict()\n",
    "type(dss)\n",
    "dss['first']='11'\n",
    "dss['seconed']='22'\n",
    "dss['first']"
   ]
  },
  {
   "cell_type": "code",
   "execution_count": 30,
   "id": "20d60115-4ffb-4730-8801-8281f5ab6188",
   "metadata": {},
   "outputs": [
    {
     "data": {
      "text/plain": [
       "1"
      ]
     },
     "execution_count": 30,
     "metadata": {},
     "output_type": "execute_result"
    }
   ],
   "source": [
    "dss={'s':1}\n",
    "# dss['a']\n",
    "dss.get('a',1)\n",
    "dss.pop('s')"
   ]
  },
  {
   "cell_type": "code",
   "execution_count": 32,
   "id": "23fce139-2d39-4f39-b4fd-95367b2cc595",
   "metadata": {},
   "outputs": [
    {
     "data": {
      "text/plain": [
       "{}"
      ]
     },
     "execution_count": 32,
     "metadata": {},
     "output_type": "execute_result"
    }
   ],
   "source": [
    "dss"
   ]
  },
  {
   "cell_type": "markdown",
   "id": "ca0700b1-4bf1-45ba-aab4-a5c25079023a",
   "metadata": {},
   "source": [
    "## 集合"
   ]
  },
  {
   "cell_type": "code",
   "execution_count": 46,
   "id": "6e8d26f4-9af7-4316-9a80-1bfdd921a40e",
   "metadata": {
    "scrolled": true
   },
   "outputs": [
    {
     "data": {
      "text/plain": [
       "list"
      ]
     },
     "execution_count": 46,
     "metadata": {},
     "output_type": "execute_result"
    }
   ],
   "source": [
    "dss=[11,22,11,22,44,55]\n",
    "dss\n",
    "set(dss)\n",
    "r={1,2,3,4,5,1}\n",
    "r\n",
    "type(r)\n",
    "type(dss)"
   ]
  },
  {
   "cell_type": "code",
   "execution_count": 58,
   "id": "54ed95ec-07ef-4747-8f58-bb0aeecb8c16",
   "metadata": {},
   "outputs": [
    {
     "data": {
      "text/plain": [
       "{9}"
      ]
     },
     "execution_count": 58,
     "metadata": {},
     "output_type": "execute_result"
    }
   ],
   "source": [
    "# 集合的操作\n",
    "a={1,2,3,4,5}\n",
    "b={2,3,4,5,9}\n",
    "a|b # a.union(b)\n",
    "a&b # a.intersection(b)\n",
    "a-b #a.difference(b) \n",
    "b-a #b.difference(a)"
   ]
  },
  {
   "cell_type": "code",
   "execution_count": 66,
   "id": "5f9a0d88-198e-406a-a90f-f110bc0a1280",
   "metadata": {},
   "outputs": [],
   "source": [
    "dss='123'\n",
    "t=dss"
   ]
  },
  {
   "cell_type": "code",
   "execution_count": 70,
   "id": "eeda2abf-1426-404d-a753-cdd477deb1a1",
   "metadata": {
    "scrolled": true
   },
   "outputs": [
    {
     "data": {
      "text/plain": [
       "4560256720"
      ]
     },
     "execution_count": 70,
     "metadata": {},
     "output_type": "execute_result"
    }
   ],
   "source": [
    "id(dss)"
   ]
  },
  {
   "cell_type": "code",
   "execution_count": 72,
   "id": "4513479f-8662-43f9-ba3d-ac68b7a098ff",
   "metadata": {},
   "outputs": [
    {
     "data": {
      "text/plain": [
       "4560256720"
      ]
     },
     "execution_count": 72,
     "metadata": {},
     "output_type": "execute_result"
    }
   ],
   "source": [
    "id(t)"
   ]
  },
  {
   "cell_type": "markdown",
   "id": "c4daf35e-8052-4c7e-a6f0-929ffe7b919f",
   "metadata": {},
   "source": [
    "## 判断结构"
   ]
  },
  {
   "cell_type": "code",
   "execution_count": 76,
   "id": "b2144552-1b44-43c4-bdd7-e4d15bc24e78",
   "metadata": {},
   "outputs": [
    {
     "name": "stdout",
     "output_type": "stream",
     "text": [
      "ok\n",
      "test\n"
     ]
    }
   ],
   "source": [
    "tang=100\n",
    "if tang > 50:\n",
    "    print('ok')\n",
    "print('test')"
   ]
  },
  {
   "cell_type": "code",
   "execution_count": 78,
   "id": "2ec8c941-2c74-4af2-a1ac-32e9cc1fbb92",
   "metadata": {},
   "outputs": [],
   "source": [
    "tang = 100"
   ]
  },
  {
   "cell_type": "code",
   "execution_count": 88,
   "id": "9b31a0f2-f5c7-4a5c-95df-c4370b31e09b",
   "metadata": {},
   "outputs": [
    {
     "name": "stdout",
     "output_type": "stream",
     "text": [
      "100~200\n"
     ]
    }
   ],
   "source": [
    "dss=120\n",
    "if dss < 100 :\n",
    "    print(\"< 100\")\n",
    "elif dss > 200 :\n",
    "    print(\"> 200\")\n",
    "else : \n",
    "    print(\"100~200\")\n"
   ]
  },
  {
   "cell_type": "markdown",
   "id": "59a57735-e7ee-4409-aa6b-506e3f9bcee0",
   "metadata": {},
   "source": [
    "## 循环接结构"
   ]
  },
  {
   "cell_type": "code",
   "execution_count": 91,
   "id": "14243188-fc80-46ae-8fd5-481ccac21b49",
   "metadata": {},
   "outputs": [
    {
     "name": "stdout",
     "output_type": "stream",
     "text": [
      "0\n",
      "1\n",
      "2\n",
      "3\n",
      "4\n",
      "5\n",
      "6\n",
      "7\n",
      "8\n",
      "9\n"
     ]
    }
   ],
   "source": [
    "dss=0\n",
    "while dss < 10:\n",
    "    print(dss)\n",
    "    dss+=1"
   ]
  },
  {
   "cell_type": "code",
   "execution_count": 95,
   "id": "8553d808-fff9-450c-95d8-dfcf0a9dc519",
   "metadata": {},
   "outputs": [],
   "source": [
    "dss=set()\n",
    "if dss :\n",
    "    print(\"111\")"
   ]
  },
  {
   "cell_type": "code",
   "execution_count": null,
   "id": "84ce1701-4749-481b-b064-24fa3a1680cb",
   "metadata": {},
   "outputs": [],
   "source": [
    "## type(range(10))\n",
    "t=[1,3,3,3,3,33,3,3,3,3,3,3,3,3,3]\n",
    "for i in range(len(t)) : \n",
    "    print(t[i])"
   ]
  },
  {
   "cell_type": "markdown",
   "id": "7c24241f-4dc5-420b-a1a1-90f1929c96e8",
   "metadata": {},
   "source": [
    "## 函数"
   ]
  },
  {
   "cell_type": "code",
   "execution_count": 135,
   "id": "adda5f61-5ff6-471a-ab9d-546b14bb8711",
   "metadata": {},
   "outputs": [
    {
     "name": "stdout",
     "output_type": "stream",
     "text": [
      "3\n"
     ]
    }
   ],
   "source": [
    "a='a'\n",
    "def add_ab(a=2,b=5):\n",
    "    return a+b\n",
    "print(add_ab(1,2))"
   ]
  },
  {
   "cell_type": "code",
   "execution_count": 147,
   "id": "e623d39b-42d3-45b7-a649-317f396876ca",
   "metadata": {},
   "outputs": [
    {
     "name": "stdout",
     "output_type": "stream",
     "text": [
      "21\n"
     ]
    }
   ],
   "source": [
    "def add_argvs(a,*args):\n",
    "    for i in args:\n",
    "        a+=i\n",
    "    return a\n",
    "print(add_argvs(1,2,3,4,5,6))"
   ]
  },
  {
   "cell_type": "code",
   "execution_count": 151,
   "id": "55a92972-56a7-4017-872c-2ff431b25b73",
   "metadata": {},
   "outputs": [
    {
     "name": "stdout",
     "output_type": "stream",
     "text": [
      "x 2\n",
      "b 3\n"
     ]
    }
   ],
   "source": [
    "def add_number2(a,**kwargs):\n",
    "    for arg,value in kwargs.items():\n",
    "        print(arg,value)\n",
    "add_number2(1,x=2,b=3)"
   ]
  },
  {
   "cell_type": "markdown",
   "id": "fc213b71-eff7-4b53-82aa-fe6868e73445",
   "metadata": {},
   "source": [
    "## 模块"
   ]
  },
  {
   "cell_type": "code",
   "execution_count": 196,
   "id": "c00042dd-b56c-4d6b-991a-8bbf521b8863",
   "metadata": {},
   "outputs": [
    {
     "name": "stdout",
     "output_type": "stream",
     "text": [
      "Writing dsss.py\n"
     ]
    }
   ],
   "source": [
    "%%writefile  dsss.py\n",
    "dss_value=20\n",
    "def dss_add(dss_list):\n",
    "    dss_sum = 0\n",
    "    for i in range(len(dss_list)):\n",
    "        dss_sum+=dss_list[i]\n",
    "    return dss_sum\n",
    "dss_list=[1,2,3,4,5,6]\n",
    "print(dss_add(dss_list))"
   ]
  },
  {
   "cell_type": "code",
   "execution_count": 198,
   "id": "9458bd52-2227-44c3-8106-f4b9737f7cd5",
   "metadata": {},
   "outputs": [
    {
     "name": "stdout",
     "output_type": "stream",
     "text": [
      "21\n"
     ]
    }
   ],
   "source": [
    "%run dsss.py"
   ]
  },
  {
   "cell_type": "code",
   "execution_count": 202,
   "id": "ff41e1f7-49e6-4f87-9d45-1fb34db13b56",
   "metadata": {},
   "outputs": [
    {
     "data": {
      "text/plain": [
       "20"
      ]
     },
     "execution_count": 202,
     "metadata": {},
     "output_type": "execute_result"
    }
   ],
   "source": [
    "import dsss as d\n",
    "d.dss_value"
   ]
  },
  {
   "cell_type": "code",
   "execution_count": 208,
   "id": "c90a1ca8-c692-4a4d-9ce3-6e5af2ab3e06",
   "metadata": {},
   "outputs": [
    {
     "data": {
      "text/plain": [
       "<module 'dsss' from '/Users/carson/Desktop/JupyterLab/dsss.py'>"
      ]
     },
     "execution_count": 208,
     "metadata": {},
     "output_type": "execute_result"
    }
   ],
   "source": [
    "import dsss\n",
    "dsss"
   ]
  },
  {
   "cell_type": "code",
   "execution_count": null,
   "id": "65664407-e9fb-4cb8-b474-4fe3380b5e04",
   "metadata": {},
   "outputs": [],
   "source": [
    "from dsss import *"
   ]
  },
  {
   "cell_type": "markdown",
   "id": "20ff3918-fdc9-4d98-9e29-a11a5b3679d0",
   "metadata": {},
   "source": [
    "## 异常"
   ]
  },
  {
   "cell_type": "code",
   "execution_count": 226,
   "id": "18f966bd-09c2-40ed-ac53-ac805de331bc",
   "metadata": {},
   "outputs": [
    {
     "name": "stdin",
     "output_type": "stream",
     "text": [
      "write a number 0\n"
     ]
    },
    {
     "name": "stdout",
     "output_type": "stream",
     "text": [
      "ValueError\n"
     ]
    },
    {
     "name": "stdin",
     "output_type": "stream",
     "text": [
      "write a number 1\n"
     ]
    },
    {
     "name": "stdout",
     "output_type": "stream",
     "text": [
      "0.0\n"
     ]
    },
    {
     "name": "stdin",
     "output_type": "stream",
     "text": [
      "write a number 2\n"
     ]
    },
    {
     "name": "stdout",
     "output_type": "stream",
     "text": [
      "0.6931471805599453\n"
     ]
    },
    {
     "name": "stdin",
     "output_type": "stream",
     "text": [
      "write a number 3\n"
     ]
    },
    {
     "name": "stdout",
     "output_type": "stream",
     "text": [
      "1.0986122886681098\n"
     ]
    },
    {
     "name": "stdin",
     "output_type": "stream",
     "text": [
      "write a number 4\n"
     ]
    },
    {
     "name": "stdout",
     "output_type": "stream",
     "text": [
      "1.3862943611198906\n"
     ]
    },
    {
     "name": "stdin",
     "output_type": "stream",
     "text": [
      "write a number 4\n"
     ]
    },
    {
     "name": "stdout",
     "output_type": "stream",
     "text": [
      "1.3862943611198906\n"
     ]
    },
    {
     "name": "stdin",
     "output_type": "stream",
     "text": [
      "write a number 4\n"
     ]
    },
    {
     "name": "stdout",
     "output_type": "stream",
     "text": [
      "1.3862943611198906\n"
     ]
    },
    {
     "name": "stdin",
     "output_type": "stream",
     "text": [
      "write a number 4\n"
     ]
    },
    {
     "name": "stdout",
     "output_type": "stream",
     "text": [
      "1.3862943611198906\n"
     ]
    },
    {
     "name": "stdin",
     "output_type": "stream",
     "text": [
      "write a number 4\n"
     ]
    },
    {
     "name": "stdout",
     "output_type": "stream",
     "text": [
      "1.3862943611198906\n"
     ]
    },
    {
     "name": "stdin",
     "output_type": "stream",
     "text": [
      "write a number 4\n"
     ]
    },
    {
     "name": "stdout",
     "output_type": "stream",
     "text": [
      "1.3862943611198906\n"
     ]
    }
   ],
   "source": [
    "import math\n",
    "for i in range(10):\n",
    "    try:\n",
    "        input_number=input('write a number')\n",
    "        if input_number == 'q':\n",
    "            break\n",
    "        result=math.log(float(input_number))\n",
    "        print(result)\n",
    "    except ValueError:\n",
    "        print('ValueError')\n",
    "    except Exception:\n",
    "        print('unknow Exception')"
   ]
  },
  {
   "cell_type": "code",
   "execution_count": null,
   "id": "acc03ef9-7e22-46fc-9cf6-a18da1c1bff1",
   "metadata": {},
   "outputs": [],
   "source": [
    "# 自定义异常\n",
    "class DssError"
   ]
  },
  {
   "cell_type": "code",
   "execution_count": 272,
   "id": "66c4fc85-2a00-40df-b1aa-24afcbb60803",
   "metadata": {},
   "outputs": [],
   "source": [
    "class people:\n",
    "    \"帮助信息：__doc__\"\n",
    "    number = 100\n",
    "    def __init__(self,name,age):\n",
    "        self.name=name\n",
    "        self.age=age\n",
    "    def display(self):\n",
    "        print('number=:',people.number)\n",
    "    def display_name(self):\n",
    "        print(self.name)"
   ]
  },
  {
   "cell_type": "code",
   "execution_count": 240,
   "id": "a8ce54ec-68d7-4397-add2-95366c907f09",
   "metadata": {},
   "outputs": [
    {
     "data": {
      "text/plain": [
       "'帮助信息：__doc__'"
      ]
     },
     "execution_count": 240,
     "metadata": {},
     "output_type": "execute_result"
    }
   ],
   "source": [
    "people.__doc__"
   ]
  },
  {
   "cell_type": "code",
   "execution_count": 288,
   "id": "7f6b5693-d852-428c-a2b0-896834cdd6ed",
   "metadata": {
    "jp-MarkdownHeadingCollapsed": true
   },
   "outputs": [
    {
     "name": "stdout",
     "output_type": "stream",
     "text": [
      "number=: 100\n"
     ]
    },
    {
     "data": {
      "text/plain": [
       "100"
      ]
     },
     "execution_count": 288,
     "metadata": {},
     "output_type": "execute_result"
    }
   ],
   "source": [
    "p1=people('dss',32)\n",
    "p1.name\n",
    "p2=people('dss2',33)\n",
    "p2.number=400\n",
    "p2.number\n",
    "p2.display()\n",
    "hasattr(p1,'age')\n",
    "getattr(p1,'age')\n",
    "setattr(p1,'age',100)\n",
    "getattr(p1,'age')"
   ]
  },
  {
   "cell_type": "code",
   "execution_count": 306,
   "id": "deca4697-6eee-4731-89f0-886a88c96dd3",
   "metadata": {},
   "outputs": [
    {
     "data": {
      "text/plain": [
       "'帮助信息：__doc__'"
      ]
     },
     "execution_count": 306,
     "metadata": {},
     "output_type": "execute_result"
    }
   ],
   "source": [
    "people.__doc__\n",
    "# people.__name__\n",
    "# people.__module__\n",
    "# people.__bases__\n",
    "# people.__dict__"
   ]
  },
  {
   "cell_type": "code",
   "execution_count": 340,
   "id": "b2a741cd-d407-4f0a-99f3-92021f5a8a62",
   "metadata": {},
   "outputs": [],
   "source": [
    "class Parent:\n",
    "    number = 100\n",
    "    def __init__(self):\n",
    "        print('调用父类构造函数')\n",
    "    def parentM(self):\n",
    "        print('调用父类的方法')\n",
    "    def setAttr(self,attr):\n",
    "        Parent.parentAttr=attr\n",
    "    def getAttr(self):\n",
    "        print('父类的属性：',Parent.parentAttr)\n",
    "    def newM(self):\n",
    "        print('父类要重新的方法')\n",
    "\n",
    "class child(Parent):\n",
    "    def __init__(self):\n",
    "        print('调用子类的构造函数')\n",
    "    def childM(self):\n",
    "        print('调用子类的方法')\n",
    "    def newM(self):\n",
    "        print('子类覆盖的方法')"
   ]
  },
  {
   "cell_type": "code",
   "execution_count": 342,
   "id": "4ef94e13-bb7e-4a70-9b1b-2128d659d575",
   "metadata": {},
   "outputs": [
    {
     "name": "stdout",
     "output_type": "stream",
     "text": [
      "调用子类的构造函数\n"
     ]
    }
   ],
   "source": [
    "c=child()\n",
    "# c.childM()\n",
    "# c.parentM()\n",
    "# c.setAttr(100)\n",
    "# c.getAttr()"
   ]
  },
  {
   "cell_type": "markdown",
   "id": "f5dbba2d-9600-4faf-9e88-e416a36f7639",
   "metadata": {},
   "source": [
    "## 时间"
   ]
  },
  {
   "cell_type": "code",
   "execution_count": 349,
   "id": "378e376c-0a7c-4b2b-8fdb-f937dd4066d4",
   "metadata": {},
   "outputs": [
    {
     "data": {
      "text/plain": [
       "time.struct_time(tm_year=2024, tm_mon=12, tm_mday=25, tm_hour=13, tm_min=43, tm_sec=44, tm_wday=2, tm_yday=360, tm_isdst=0)"
      ]
     },
     "execution_count": 349,
     "metadata": {},
     "output_type": "execute_result"
    }
   ],
   "source": [
    "import time\n",
    "time.time() \n",
    "time.localtime(time.time())"
   ]
  },
  {
   "cell_type": "code",
   "execution_count": 351,
   "id": "9deec147-e840-4650-b261-d1cdce8128b9",
   "metadata": {},
   "outputs": [
    {
     "name": "stdout",
     "output_type": "stream",
     "text": [
      "Wed Dec 25 13:44:07 2024\n"
     ]
    }
   ],
   "source": [
    "print(time.asctime())"
   ]
  },
  {
   "cell_type": "code",
   "execution_count": 355,
   "id": "aaa6a08f-094f-4a4f-b1f9-9c0d974ee963",
   "metadata": {},
   "outputs": [
    {
     "name": "stdout",
     "output_type": "stream",
     "text": [
      "2024-12-25 13:45:37\n"
     ]
    }
   ],
   "source": [
    "print(time.strftime('%Y-%m-%d %H:%M:%S'))"
   ]
  },
  {
   "cell_type": "code",
   "execution_count": 371,
   "id": "55001964-1ee7-4924-8731-77df3946b04b",
   "metadata": {},
   "outputs": [
    {
     "name": "stdout",
     "output_type": "stream",
     "text": [
      "   December 2017\n",
      "Mo Tu We Th Fr Sa Su\n",
      "             1  2  3\n",
      " 4  5  6  7  8  9 10\n",
      "11 12 13 14 15 16 17\n",
      "18 19 20 21 22 23 24\n",
      "25 26 27 28 29 30 31\n",
      "\n"
     ]
    }
   ],
   "source": [
    "import calendar\n",
    "print(calendar.month(2017,12))"
   ]
  },
  {
   "cell_type": "code",
   "execution_count": 359,
   "id": "70b1cd37-0cb5-4255-b930-6a4871f51193",
   "metadata": {},
   "outputs": [
    {
     "name": "stdout",
     "output_type": "stream",
     "text": [
      "Help on method formatmonth in module calendar:\n",
      "\n",
      "formatmonth(theyear, themonth, w=0, l=0) method of calendar.TextCalendar instance\n",
      "    Return a month's calendar string (multi-line).\n",
      "\n"
     ]
    }
   ],
   "source": [
    "help(calendar.month)"
   ]
  },
  {
   "cell_type": "code",
   "execution_count": null,
   "id": "cbf7eb99-3f95-4739-89e1-7d70d721e07a",
   "metadata": {},
   "outputs": [],
   "source": [
    "## 练习题"
   ]
  },
  {
   "cell_type": "code",
   "execution_count": 373,
   "id": "4ddc807e-9968-4a9d-be40-0acdb88fb9ec",
   "metadata": {},
   "outputs": [
    {
     "name": "stdout",
     "output_type": "stream",
     "text": [
      "1 2 3\n",
      "1 2 4\n",
      "1 3 2\n",
      "1 3 4\n",
      "1 4 2\n",
      "1 4 3\n",
      "2 1 3\n",
      "2 1 4\n",
      "2 3 1\n",
      "2 3 4\n",
      "2 4 1\n",
      "2 4 3\n",
      "3 1 2\n",
      "3 1 4\n",
      "3 2 1\n",
      "3 2 4\n",
      "3 4 1\n",
      "3 4 2\n",
      "4 1 2\n",
      "4 1 3\n",
      "4 2 1\n",
      "4 2 3\n",
      "4 3 1\n",
      "4 3 2\n"
     ]
    }
   ],
   "source": [
    "for i in range(1,5):\n",
    "    for j in range(1,5):\n",
    "        for k in range(1,5):\n",
    "            if (i!=j) and (j!=k) and (k!=i):\n",
    "                print(i,j,k)"
   ]
  },
  {
   "cell_type": "code",
   "execution_count": 379,
   "id": "f1ed5922-06e1-4f84-9480-3100dae096f5",
   "metadata": {},
   "outputs": [
    {
     "name": "stdin",
     "output_type": "stream",
     "text": [
      " 3\n",
      " 2\n",
      " 1\n"
     ]
    },
    {
     "data": {
      "text/plain": [
       "[1, 2, 3]"
      ]
     },
     "execution_count": 379,
     "metadata": {},
     "output_type": "execute_result"
    }
   ],
   "source": [
    "my_list =[]\n",
    "for i in range(3):\n",
    "    x=int(input())\n",
    "    my_list.append(x)\n",
    "my_list.sort()\n",
    "my_list"
   ]
  },
  {
   "cell_type": "code",
   "execution_count": 387,
   "id": "531325d4-8161-4478-a1eb-9daa0641af89",
   "metadata": {},
   "outputs": [
    {
     "name": "stdout",
     "output_type": "stream",
     "text": [
      "2024-12-25 14:05:46\n",
      "2024-12-25 14:05:47\n",
      "2024-12-25 14:05:49\n"
     ]
    }
   ],
   "source": [
    "import time\n",
    "print(time.strftime('%Y-%m-%d %H:%M:%S'))\n",
    "time.sleep(1)\n",
    "print(time.strftime('%Y-%m-%d %H:%M:%S'))\n",
    "time.sleep(2)\n",
    "print(time.strftime('%Y-%m-%d %H:%M:%S'))"
   ]
  }
 ],
 "metadata": {
  "kernelspec": {
   "display_name": "Python [conda env:base] *",
   "language": "python",
   "name": "conda-base-py"
  },
  "language_info": {
   "codemirror_mode": {
    "name": "ipython",
    "version": 3
   },
   "file_extension": ".py",
   "mimetype": "text/x-python",
   "name": "python",
   "nbconvert_exporter": "python",
   "pygments_lexer": "ipython3",
   "version": "3.12.7"
  }
 },
 "nbformat": 4,
 "nbformat_minor": 5
}

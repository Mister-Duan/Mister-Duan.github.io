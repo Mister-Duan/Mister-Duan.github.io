{
 "cells": [
  {
   "cell_type": "code",
   "execution_count": null,
   "id": "a53ab6a9-04bc-4933-9988-5e59f8939011",
   "metadata": {},
   "outputs": [],
   "source": [
    "# 筛选情况 拆分原子"
   ]
  },
  {
   "cell_type": "markdown",
   "id": "10bc6233-3f82-4c33-91d9-585f5bf28bd6",
   "metadata": {},
   "source": [
    "# 默认切换操作符 2 种 \n",
    "- and or\n",
    "   \n",
    "# 侧边栏 4 种\n",
    "- 单个勾选          \n",
    "  -  普通追加 a      \n",
    "  -  特殊追加 （多靶点）a  \n",
    "- 多个勾选 (全部按钮)\n",
    "    - 普通 a or b or c \n",
    "# 下拉二筛 4 种\n",
    "- 单个勾选 \n",
    "    - a\n",
    "    - not a\n",
    "- 多个勾选\n",
    "    - a or b or c\n",
    "    - not (a or b or c) "
   ]
  },
  {
   "cell_type": "code",
   "execution_count": null,
   "id": "4bb78ca3-d8a2-4df0-a2e2-e3b7afb22991",
   "metadata": {},
   "outputs": [],
   "source": [
    "共3+4=7种情况\n",
    "\n",
    "7 * 7 = 49情况"
   ]
  }
 ],
 "metadata": {
  "kernelspec": {
   "display_name": "Python [conda env:base] *",
   "language": "python",
   "name": "conda-base-py"
  },
  "language_info": {
   "codemirror_mode": {
    "name": "ipython",
    "version": 3
   },
   "file_extension": ".py",
   "mimetype": "text/x-python",
   "name": "python",
   "nbconvert_exporter": "python",
   "pygments_lexer": "ipython3",
   "version": "3.12.7"
  }
 },
 "nbformat": 4,
 "nbformat_minor": 5
}

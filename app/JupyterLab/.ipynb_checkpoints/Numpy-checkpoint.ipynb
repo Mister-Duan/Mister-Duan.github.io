{
 "cells": [
  {
   "cell_type": "markdown",
   "id": "f227cbad-0804-4b57-8a44-67f7f6810266",
   "metadata": {},
   "source": [
    "# Python 科学计算库Numpy\n",
    "确保已经安装"
   ]
  },
  {
   "cell_type": "code",
   "execution_count": 8,
   "id": "45bcbdf2-8311-4b69-9af5-25d7c112a228",
   "metadata": {},
   "outputs": [],
   "source": [
    "import numpy as np"
   ]
  },
  {
   "cell_type": "code",
   "execution_count": 36,
   "id": "d29b8fad-3df6-411f-b347-1da42c56af34",
   "metadata": {},
   "outputs": [
    {
     "data": {
      "text/plain": [
       "2"
      ]
     },
     "execution_count": 36,
     "metadata": {},
     "output_type": "execute_result"
    }
   ],
   "source": [
    "array = [1,2,3,4,5,6]\n",
    "#每一项+1\n",
    "array1=np.array([1,2,3,4,5,6])\n",
    "array1  * array1\n",
    "array1  + array1\n",
    "array1+100\n",
    "array1[1]"
   ]
  },
  {
   "cell_type": "code",
   "execution_count": 70,
   "id": "317dab8e-2efb-40c8-a871-d5bc2b4762ab",
   "metadata": {},
   "outputs": [
    {
     "data": {
      "text/plain": [
       "array([[1, 2, 3],\n",
       "       [4, 5, 6],\n",
       "       [4, 5, 6]])"
      ]
     },
     "execution_count": 70,
     "metadata": {},
     "output_type": "execute_result"
    }
   ],
   "source": [
    "np.array([[1,2,3],[4,5,6]]).shape"
   ]
  },
  {
   "cell_type": "code",
   "execution_count": 80,
   "id": "a287fc2d-5672-4565-8b5d-0952be2a7ede",
   "metadata": {},
   "outputs": [
    {
     "data": {
      "text/plain": [
       "array([[0, 0, 0],\n",
       "       [0, 0, 0],\n",
       "       [0, 0, 0]])"
      ]
     },
     "execution_count": 80,
     "metadata": {},
     "output_type": "execute_result"
    }
   ],
   "source": [
    "list=[[12,13,14,],[1,2,3],[1,2,3]]\n",
    "list_n=np.array(list)\n",
    "list_n\n",
    "list_n.dtype\n",
    "list_n.itemsize\n",
    "list_n.shape\n",
    "list_n.size\n",
    "list_n.ndim #维度\n",
    "list_n.fill(0)\n",
    "list_n"
   ]
  },
  {
   "cell_type": "code",
   "execution_count": 106,
   "id": "c86e4606-046b-4f92-afb2-f516d686539f",
   "metadata": {},
   "outputs": [
    {
     "data": {
      "text/plain": [
       "array([[ 1,  2,  3],\n",
       "       [ 2,  3,  4],\n",
       "       [ 4,  5, 10]])"
      ]
     },
     "execution_count": 106,
     "metadata": {},
     "output_type": "execute_result"
    }
   ],
   "source": [
    "# 矩阵格式\n",
    "dss_array=np.array([[1,2,3],[2,3,4],[4,5,6]])\n",
    "dss_array[2,2]=10\n",
    "dss_array\n",
    "dss_array[1] # 取第二行\n",
    "dss_array[:,1] # 取第二列\n",
    "dss_array2=dss_array.copy()\n",
    "dss_array2"
   ]
  },
  {
   "cell_type": "code",
   "execution_count": 108,
   "id": "c03e40fc-ef9f-48fa-bea3-0dd1f5d2b2fb",
   "metadata": {},
   "outputs": [
    {
     "data": {
      "text/plain": [
       "array([ 0, 10, 20, 30, 40, 50, 60, 70, 80, 90])"
      ]
     },
     "execution_count": 108,
     "metadata": {},
     "output_type": "execute_result"
    }
   ],
   "source": [
    "tang_array=np.arange(0,100,10)\n",
    "tang_array"
   ]
  },
  {
   "cell_type": "code",
   "execution_count": 128,
   "id": "d1272066-a986-4ac6-95f0-cf87a84feef5",
   "metadata": {},
   "outputs": [
    {
     "data": {
      "text/plain": [
       "array([30, 40, 50, 80, 90])"
      ]
     },
     "execution_count": 128,
     "metadata": {},
     "output_type": "execute_result"
    }
   ],
   "source": [
    "mask=np.array([0,0,0,1,1,1,0,0,1,1],dtype=bool)\n",
    "mask\n",
    "tang_array[mask] # 取值"
   ]
  },
  {
   "cell_type": "code",
   "execution_count": 136,
   "id": "de29968f-c520-41e8-b30a-11c496aa22d6",
   "metadata": {},
   "outputs": [
    {
     "data": {
      "text/plain": [
       "array([0.53880377, 0.72601217, 0.65952844, 0.92154981, 0.71532491,\n",
       "       0.88630349, 0.78657916])"
      ]
     },
     "execution_count": 136,
     "metadata": {},
     "output_type": "execute_result"
    }
   ],
   "source": [
    "tang_array=np.random.rand(10)\n",
    "mask=tang_array>0.5\n",
    "mask\n",
    "np.where(tang_array>0.5)\n",
    "tang_array[np.where(tang_array>0.5)]"
   ]
  },
  {
   "cell_type": "code",
   "execution_count": 202,
   "id": "39c673e7-328a-4386-8cc6-a9155b56faf2",
   "metadata": {},
   "outputs": [
    {
     "name": "stdout",
     "output_type": "stream",
     "text": [
      "[0 1 2 3 4 5 6 7 8 9]\n",
      "(10,)\n"
     ]
    }
   ],
   "source": [
    "list=np.arange(10)\n",
    "print(list)\n",
    "print(list.shape)"
   ]
  },
  {
   "cell_type": "code",
   "execution_count": 204,
   "id": "1e28cef1-886e-4a66-b057-741ceb34db73",
   "metadata": {},
   "outputs": [
    {
     "name": "stdout",
     "output_type": "stream",
     "text": [
      "[[0 1 2 3 4 5 6 7 8 9]]\n",
      "(1, 10)\n"
     ]
    }
   ],
   "source": [
    "list=list[np.newaxis,:]\n",
    "print(list)\n",
    "print(list.shape)"
   ]
  },
  {
   "cell_type": "code",
   "execution_count": 206,
   "id": "35ee75f9-6f7f-4be6-9a76-1e33a4f879e5",
   "metadata": {},
   "outputs": [
    {
     "data": {
      "text/plain": [
       "array([0., 0., 0.])"
      ]
     },
     "execution_count": 206,
     "metadata": {},
     "output_type": "execute_result"
    }
   ],
   "source": [
    "np.zeros(3)"
   ]
  },
  {
   "cell_type": "code",
   "execution_count": 212,
   "id": "17629488-5b9c-49ca-ae7f-d654cdbecd93",
   "metadata": {},
   "outputs": [
    {
     "data": {
      "text/plain": [
       "array([[[0., 0., 0.],\n",
       "        [0., 0., 0.],\n",
       "        [0., 0., 0.],\n",
       "        [0., 0., 0.]],\n",
       "\n",
       "       [[0., 0., 0.],\n",
       "        [0., 0., 0.],\n",
       "        [0., 0., 0.],\n",
       "        [0., 0., 0.]],\n",
       "\n",
       "       [[0., 0., 0.],\n",
       "        [0., 0., 0.],\n",
       "        [0., 0., 0.],\n",
       "        [0., 0., 0.]]])"
      ]
     },
     "execution_count": 212,
     "metadata": {},
     "output_type": "execute_result"
    }
   ],
   "source": [
    "np.zeros((3,4,3))"
   ]
  },
  {
   "cell_type": "code",
   "execution_count": 217,
   "id": "baaf7214-86b5-457c-af40-fdc0d82f01eb",
   "metadata": {},
   "outputs": [
    {
     "data": {
      "text/plain": [
       "array([[8., 8., 8.],\n",
       "       [8., 8., 8.],\n",
       "       [8., 8., 8.]], dtype=float32)"
      ]
     },
     "execution_count": 217,
     "metadata": {},
     "output_type": "execute_result"
    }
   ],
   "source": [
    "np.ones((3,3),dtype = np.float32) * 8"
   ]
  },
  {
   "cell_type": "code",
   "execution_count": 219,
   "id": "be943142-6e82-4623-80f1-ea6cfc29919e",
   "metadata": {},
   "outputs": [
    {
     "data": {
      "text/plain": [
       "(6,)"
      ]
     },
     "execution_count": 219,
     "metadata": {},
     "output_type": "execute_result"
    }
   ],
   "source": [
    "a=np.empty(6)\n",
    "a.shape"
   ]
  },
  {
   "cell_type": "code",
   "execution_count": 223,
   "id": "fe0b336e-b71b-4404-944d-890840b833ca",
   "metadata": {},
   "outputs": [
    {
     "data": {
      "text/plain": [
       "array([1., 1., 1., 1., 1., 1.])"
      ]
     },
     "execution_count": 223,
     "metadata": {},
     "output_type": "execute_result"
    }
   ],
   "source": [
    "a.fill(1)\n",
    "a"
   ]
  },
  {
   "cell_type": "code",
   "execution_count": 227,
   "id": "293d78e6-3855-4d03-9027-fc431d4ceac6",
   "metadata": {},
   "outputs": [],
   "source": [
    "list=np.array([1,2,3,4])"
   ]
  },
  {
   "cell_type": "code",
   "execution_count": 237,
   "id": "09c4afc5-a963-40d3-a6c9-19a811e518ca",
   "metadata": {},
   "outputs": [
    {
     "data": {
      "text/plain": [
       "array([1, 1, 1, 1])"
      ]
     },
     "execution_count": 237,
     "metadata": {},
     "output_type": "execute_result"
    }
   ],
   "source": [
    "np.zeros_like(list)\n",
    "np.ones_like(list)"
   ]
  },
  {
   "cell_type": "code",
   "execution_count": 247,
   "id": "7795e225-1e4c-4b85-9527-e82abb01c1b1",
   "metadata": {},
   "outputs": [
    {
     "data": {
      "text/plain": [
       "array([[1., 0., 0.],\n",
       "       [0., 1., 0.],\n",
       "       [0., 0., 1.]])"
      ]
     },
     "execution_count": 247,
     "metadata": {},
     "output_type": "execute_result"
    }
   ],
   "source": [
    "# 单位矩阵\n",
    "np.identity(3)"
   ]
  },
  {
   "cell_type": "markdown",
   "id": "7a480096-ff3c-4d11-b641-2225b2e7623e",
   "metadata": {},
   "source": [
    "## 四则运算"
   ]
  },
  {
   "cell_type": "code",
   "execution_count": 360,
   "id": "4d40afbe-97a5-4780-b2c6-d82d11b697cc",
   "metadata": {
    "scrolled": true
   },
   "outputs": [
    {
     "data": {
      "text/plain": [
       "array([[False,  True, False],\n",
       "       [False,  True, False],\n",
       "       [False,  True, False]])"
      ]
     },
     "execution_count": 360,
     "metadata": {},
     "output_type": "execute_result"
    }
   ],
   "source": [
    "# x=np.array([[1,2,3],[1,2,2],[1,1,1]])\n",
    "x=np.array([1,2,3])\n",
    "y=np.array([[2,2,4],[2,2,5],[2,2,5]])\n",
    "x*y\n",
    "x==y"
   ]
  },
  {
   "cell_type": "markdown",
   "id": "0db5acb1-0496-47f6-b721-387934d7766a",
   "metadata": {},
   "source": [
    "# 随机模块"
   ]
  },
  {
   "cell_type": "code",
   "execution_count": 498,
   "id": "e06b004c-493a-4296-92d4-718677cfee7f",
   "metadata": {},
   "outputs": [
    {
     "data": {
      "text/plain": [
       "array([[0.17510899, 0.7344985 , 0.22846281],\n",
       "       [0.7901068 , 0.32047614, 0.60280895],\n",
       "       [0.56369435, 0.77509878, 0.01545955]])"
      ]
     },
     "execution_count": 498,
     "metadata": {},
     "output_type": "execute_result"
    }
   ],
   "source": [
    "# 从0～1\n",
    "np.random.rand(3,3) "
   ]
  },
  {
   "cell_type": "code",
   "execution_count": 496,
   "id": "319d937d-57bf-437a-9ca9-8de05d2bf1d8",
   "metadata": {},
   "outputs": [
    {
     "data": {
      "text/plain": [
       "array([[75, 83, 80, 43],\n",
       "       [51, 53,  5, 28],\n",
       "       [75,  1, 37, 21]])"
      ]
     },
     "execution_count": 496,
     "metadata": {},
     "output_type": "execute_result"
    }
   ],
   "source": [
    "# 随机的整数\n",
    "np.random.randint(100,size=(3,4))"
   ]
  },
  {
   "cell_type": "code",
   "execution_count": 508,
   "id": "878bacad-1a59-4abc-8758-b64dbfaab97d",
   "metadata": {},
   "outputs": [
    {
     "data": {
      "text/plain": [
       "array([2, 7, 6, 7, 7])"
      ]
     },
     "execution_count": 508,
     "metadata": {},
     "output_type": "execute_result"
    }
   ],
   "source": [
    "np.random.randint(100)\n",
    "np.random.rand()\n",
    "np.random.randint(0,10,5) #0-10之间选三个数"
   ]
  },
  {
   "cell_type": "code",
   "execution_count": 510,
   "id": "a5b85815-b0de-4a48-afae-091ccd48bda6",
   "metadata": {},
   "outputs": [
    {
     "data": {
      "text/plain": [
       "0.7963207404102035"
      ]
     },
     "execution_count": 510,
     "metadata": {},
     "output_type": "execute_result"
    }
   ],
   "source": [
    "np.random.rand()"
   ]
  },
  {
   "cell_type": "code",
   "execution_count": 586,
   "id": "983c631a-d96e-4fc4-9eab-d06750343a26",
   "metadata": {},
   "outputs": [
    {
     "data": {
      "text/plain": [
       "0.4003494245183933"
      ]
     },
     "execution_count": 586,
     "metadata": {},
     "output_type": "execute_result"
    }
   ],
   "source": [
    "np.set_printoptions(precision = 2)\n",
    "np.random.rand()"
   ]
  },
  {
   "cell_type": "code",
   "execution_count": 594,
   "id": "08ce1412-6610-452a-aaca-72b3ddb8e64c",
   "metadata": {},
   "outputs": [
    {
     "data": {
      "text/plain": [
       "array([5, 3, 2, 1, 4, 7, 6, 8])"
      ]
     },
     "execution_count": 594,
     "metadata": {},
     "output_type": "execute_result"
    }
   ],
   "source": [
    "# 洗牌 打乱顺序\n",
    "list=np.array([1,2,3,4,5,6,7,8])\n",
    "np.random.shuffle(list)\n",
    "list"
   ]
  },
  {
   "cell_type": "code",
   "execution_count": 642,
   "id": "04644e9a-4075-4c14-861f-3b9b845fc12e",
   "metadata": {},
   "outputs": [
    {
     "data": {
      "text/plain": [
       "array([7, 3, 2, 8, 4, 1, 6, 5])"
      ]
     },
     "execution_count": 642,
     "metadata": {},
     "output_type": "execute_result"
    }
   ],
   "source": [
    "np.random.seed(0)\n",
    "list=np.array([1,2,3,4,5,6,7,8])\n",
    "np.random.shuffle(list)\n",
    "list"
   ]
  },
  {
   "cell_type": "markdown",
   "id": "69519687-aa09-4460-904c-774789d67c30",
   "metadata": {},
   "source": [
    "## 文件操作"
   ]
  },
  {
   "cell_type": "code",
   "execution_count": 644,
   "id": "6810290f-71f7-478a-b86a-0afb58f6847a",
   "metadata": {},
   "outputs": [
    {
     "name": "stdout",
     "output_type": "stream",
     "text": [
      "Writing test.txt\n"
     ]
    }
   ],
   "source": [
    "%%writefile test.txt\n",
    "1 2 3 4 5 6 7 8\n",
    "1 2 3 4 5 6 7 8"
   ]
  },
  {
   "cell_type": "code",
   "execution_count": 648,
   "id": "7724f570-8628-4916-aed6-b3ef5143dca7",
   "metadata": {},
   "outputs": [
    {
     "data": {
      "text/plain": [
       "array([[1., 2., 3., 4., 5., 6., 7., 8.],\n",
       "       [1., 2., 3., 4., 5., 6., 7., 8.]])"
      ]
     },
     "execution_count": 648,
     "metadata": {},
     "output_type": "execute_result"
    }
   ],
   "source": [
    "data=np.loadtxt('test.txt')\n",
    "data"
   ]
  },
  {
   "cell_type": "code",
   "execution_count": 652,
   "id": "61df7e8f-d1cf-4fb6-b4bf-802ed07a1312",
   "metadata": {},
   "outputs": [
    {
     "name": "stdout",
     "output_type": "stream",
     "text": [
      "Writing test1.txt\n"
     ]
    }
   ],
   "source": [
    "%%writefile test1.txt\n",
    "1,2,3,4,5,6,7,8\n",
    "1,2,3,4,5,6,7,8"
   ]
  },
  {
   "cell_type": "code",
   "execution_count": 654,
   "id": "9bc37654-6ac0-4007-acce-dc21dc82d2b5",
   "metadata": {},
   "outputs": [
    {
     "data": {
      "text/plain": [
       "array([[1., 2., 3., 4., 5., 6., 7., 8.],\n",
       "       [1., 2., 3., 4., 5., 6., 7., 8.]])"
      ]
     },
     "execution_count": 654,
     "metadata": {},
     "output_type": "execute_result"
    }
   ],
   "source": [
    "data=np.loadtxt('test.txt',delimiter=',')\n",
    "data"
   ]
  },
  {
   "cell_type": "code",
   "execution_count": 656,
   "id": "8398b22c-3fbc-41f0-9c8c-d8fd111d87a9",
   "metadata": {},
   "outputs": [
    {
     "name": "stdout",
     "output_type": "stream",
     "text": [
      "Writing test2.txt\n"
     ]
    }
   ],
   "source": [
    "%%writefile test2.txt\n",
    "1,a,b,c,d,e,f,g\n",
    "1,2,3,4,5,6,7,8\n",
    "1,2,3,4,5,6,7,8"
   ]
  },
  {
   "cell_type": "code",
   "execution_count": 668,
   "id": "f4440273-01b3-400b-b561-61df1933d4c6",
   "metadata": {},
   "outputs": [
    {
     "data": {
      "text/plain": [
       "array([2., 5.])"
      ]
     },
     "execution_count": 668,
     "metadata": {},
     "output_type": "execute_result"
    }
   ],
   "source": [
    "data=np.loadtxt('test2.txt',delimiter=',',skiprows=2,usecols=(1,4))\n",
    "# skiprows 去掉几行\n",
    "data"
   ]
  },
  {
   "cell_type": "code",
   "execution_count": 688,
   "id": "f79631d1-541c-4cbc-af01-d50b9b4de9c5",
   "metadata": {},
   "outputs": [
    {
     "data": {
      "text/plain": [
       "array([[1., 2., 3.],\n",
       "       [2., 3., 4.],\n",
       "       [4., 5., 9.]])"
      ]
     },
     "execution_count": 688,
     "metadata": {},
     "output_type": "execute_result"
    }
   ],
   "source": [
    "list=np.array([[1,2,3],[2,3,4],[4,5,9]])\n",
    "np.savetxt('list.txt',list,fmt='%d',delimiter=',')\n",
    "data=np.loadtxt('list.txt',delimiter=',')\n",
    "data"
   ]
  },
  {
   "cell_type": "markdown",
   "id": "a5868faa-8c9e-40f1-a4d5-957e9a431310",
   "metadata": {},
   "source": [
    "## 练习题"
   ]
  },
  {
   "cell_type": "code",
   "execution_count": 693,
   "id": "4b026165-644a-485e-87b5-78cc07552c88",
   "metadata": {},
   "outputs": [
    {
     "name": "stdout",
     "output_type": "stream",
     "text": [
      "1.26.4\n"
     ]
    }
   ],
   "source": [
    "# 打印numpy的版本\n",
    "print(np.__version__)"
   ]
  },
  {
   "cell_type": "code",
   "execution_count": 707,
   "id": "bc22433a-0b14-4bb2-b194-295e3ae58241",
   "metadata": {},
   "outputs": [
    {
     "name": "stdout",
     "output_type": "stream",
     "text": [
      "200 bytes\n"
     ]
    },
    {
     "data": {
      "text/plain": [
       "array([[0., 0., 0., 0., 0.],\n",
       "       [0., 0., 0., 0., 0.],\n",
       "       [0., 0., 0., 0., 0.],\n",
       "       [0., 0., 0., 0., 0.],\n",
       "       [0., 0., 0., 0., 0.]])"
      ]
     },
     "execution_count": 707,
     "metadata": {},
     "output_type": "execute_result"
    }
   ],
   "source": [
    "# 构造一个全零的矩阵 并大小\n",
    "z=np.zeros((5,5))\n",
    "print('%d bytes'%(z.size * z.itemsize))\n",
    "z"
   ]
  },
  {
   "cell_type": "code",
   "execution_count": 715,
   "id": "e06891ef-6cd3-4200-b347-7b5d7ca506c4",
   "metadata": {},
   "outputs": [
    {
     "name": "stdout",
     "output_type": "stream",
     "text": [
      "add(x1, x2, /, out=None, *, where=True, casting='same_kind', order='K', dtype=None, subok=True[, signature, extobj])\n",
      "\n",
      "Add arguments element-wise.\n",
      "\n",
      "Parameters\n",
      "----------\n",
      "x1, x2 : array_like\n",
      "    The arrays to be added.\n",
      "    If ``x1.shape != x2.shape``, they must be broadcastable to a common\n",
      "    shape (which becomes the shape of the output).\n",
      "out : ndarray, None, or tuple of ndarray and None, optional\n",
      "    A location into which the result is stored. If provided, it must have\n",
      "    a shape that the inputs broadcast to. If not provided or None,\n",
      "    a freshly-allocated array is returned. A tuple (possible only as a\n",
      "    keyword argument) must have length equal to the number of outputs.\n",
      "where : array_like, optional\n",
      "    This condition is broadcast over the input. At locations where the\n",
      "    condition is True, the `out` array will be set to the ufunc result.\n",
      "    Elsewhere, the `out` array will retain its original value.\n",
      "    Note that if an uninitialized `out` array is created via the default\n",
      "    ``out=None``, locations within it where the condition is False will\n",
      "    remain uninitialized.\n",
      "**kwargs\n",
      "    For other keyword-only arguments, see the\n",
      "    :ref:`ufunc docs <ufuncs.kwargs>`.\n",
      "\n",
      "Returns\n",
      "-------\n",
      "add : ndarray or scalar\n",
      "    The sum of `x1` and `x2`, element-wise.\n",
      "    This is a scalar if both `x1` and `x2` are scalars.\n",
      "\n",
      "Notes\n",
      "-----\n",
      "Equivalent to `x1` + `x2` in terms of array broadcasting.\n",
      "\n",
      "Examples\n",
      "--------\n",
      ">>> np.add(1.0, 4.0)\n",
      "5.0\n",
      ">>> x1 = np.arange(9.0).reshape((3, 3))\n",
      ">>> x2 = np.arange(3.0)\n",
      ">>> np.add(x1, x2)\n",
      "array([[  0.,   2.,   4.],\n",
      "       [  3.,   5.,   7.],\n",
      "       [  6.,   8.,  10.]])\n",
      "\n",
      "The ``+`` operator can be used as a shorthand for ``np.add`` on ndarrays.\n",
      "\n",
      ">>> x1 = np.arange(9.0).reshape((3, 3))\n",
      ">>> x2 = np.arange(3.0)\n",
      ">>> x1 + x2\n",
      "array([[ 0.,  2.,  4.],\n",
      "       [ 3.,  5.,  7.],\n",
      "       [ 6.,  8., 10.]])\n",
      "Help on NoneType object:\n",
      "\n",
      "class NoneType(object)\n",
      " |  Methods defined here:\n",
      " |\n",
      " |  __bool__(self, /)\n",
      " |      True if self else False\n",
      " |\n",
      " |  __eq__(self, value, /)\n",
      " |      Return self==value.\n",
      " |\n",
      " |  __ge__(self, value, /)\n",
      " |      Return self>=value.\n",
      " |\n",
      " |  __gt__(self, value, /)\n",
      " |      Return self>value.\n",
      " |\n",
      " |  __hash__(self, /)\n",
      " |      Return hash(self).\n",
      " |\n",
      " |  __le__(self, value, /)\n",
      " |      Return self<=value.\n",
      " |\n",
      " |  __lt__(self, value, /)\n",
      " |      Return self<value.\n",
      " |\n",
      " |  __ne__(self, value, /)\n",
      " |      Return self!=value.\n",
      " |\n",
      " |  __repr__(self, /)\n",
      " |      Return repr(self).\n",
      " |\n",
      " |  ----------------------------------------------------------------------\n",
      " |  Static methods defined here:\n",
      " |\n",
      " |  __new__(*args, **kwargs)\n",
      " |      Create and return a new object.  See help(type) for accurate signature.\n",
      "\n"
     ]
    }
   ],
   "source": [
    "# 打印一个函数的帮助文档\n",
    "# print(help(np.info(np.add)))\n",
    "# help()\n",
    "np.info(np.add)"
   ]
  }
 ],
 "metadata": {
  "kernelspec": {
   "display_name": "Python [conda env:base] *",
   "language": "python",
   "name": "conda-base-py"
  },
  "language_info": {
   "codemirror_mode": {
    "name": "ipython",
    "version": 3
   },
   "file_extension": ".py",
   "mimetype": "text/x-python",
   "name": "python",
   "nbconvert_exporter": "python",
   "pygments_lexer": "ipython3",
   "version": "3.12.7"
  }
 },
 "nbformat": 4,
 "nbformat_minor": 5
}

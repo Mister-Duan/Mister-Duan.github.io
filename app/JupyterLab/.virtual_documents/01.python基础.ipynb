





print(2+2)
1+1


4*5


10/3


10%3


2**3


tang=3*3
tang


type(tang) #打印类型


t = 1.5
type(t)





t =1.5
type(t)


str(t)


int(t)


(-15.6)


abs(-15.6)


min(11,2,3,4,5,6)


round(1.3)


1.3e5


0xff





y=True
y


type(y)





duan='dss'
duan*3


len(duan)


'sss'+'rrr'


duan='1 2 3 4 5'
duan.split(' ')


''.join(duan.split(' '))


'hello python'.replace('python','world')


'hello python'.upper()


'HELLO PYTHON'.lower()


'  adf  '.strip()


'   aaa  '.lstrip()


'  ddd  '.rstrip()


'{} {} {}'.format('dss','aa','bbb')


'{2} {1} {0}'.format('dss','aa','bbb')


'{dss} {yu} {di}'.format(yu='dss',di='aa',dss='bbb')


dss='dss shuai shuai;'
b=456.0
c=789
result ='%s %f %d ' % (dss,b,c)
result





dss='dss shuaishui'
dss[0]


dss='dss shuaishui' #不能越界
dss[1000]


dss='dss shuaishui' #不能越界
dss[0:1]


dss[5:]


dss[:5]


dss[1:-2]


dss[:]


dss[::2]





dss=[1,2,3,'33','ddd']
type(dss)
dss=list([1,2,3,'33','ddd'])
dss





len(dss)
a=[1,2]
b=[3,4]
c=a+b
d=c*4
d[0]='222'
d[0]
a[:]=['d']
a



a=[1,2,3,4,5,6]
del a[0]
a


a=[1,2,3,4,5,6]
6 in a
8 not in a


'tang' in 'tang is T'


list1=[12,3,4]
list2=[1,2,3]
list2.extend(list1)
list2


0 in range(10)





dss=dict()
type(dss)
dss['first']='11'
dss['seconed']='22'
dss['first']


dss={'s':1}
# dss['a']
dss.get('a',1)
dss.pop('s')


dss





dss=[11,22,11,22,44,55]
dss
set(dss)
r={1,2,3,4,5,1}
r
type(r)
type(dss)


# 集合的操作
a={1,2,3,4,5}
b={2,3,4,5,9}
a|b # a.union(b)
a&b # a.intersection(b)
a-b #a.difference(b) 
b-a #b.difference(a)


dss='123'
t=dss


id(dss)


id(t)





tang=100
if tang > 50:
    print('ok')
print('test')


tang = 100


dss=120
if dss < 100 :
    print("< 100")
elif dss > 200 :
    print("> 200")
else : 
    print("100~200")






dss=0
while dss < 10:
    print(dss)
    dss+=1


dss=set()
if dss :
    print("111")


## type(range(10))
t=[1,3,3,3,3,33,3,3,3,3,3,3,3,3,3]
for i in range(len(t)) : 
    print(t[i])





a='a'
def add_ab(a=2,b=5):
    return a+b
print(add_ab(1,2))


def add_argvs(a,*args):
    for i in args:
        a+=i
    return a
print(add_argvs(1,2,3,4,5,6))


def add_number2(a,**kwargs):
    for arg,value in kwargs.items():
        print(arg,value)
add_number2(1,x=2,b=3)





%%writefile  dsss.py
dss_value=20
def dss_add(dss_list):
    dss_sum = 0
    for i in range(len(dss_list)):
        dss_sum+=dss_list[i]
    return dss_sum
dss_list=[1,2,3,4,5,6]
print(dss_add(dss_list))


%run dsss.py


import dsss as d
d.dss_value


import dsss
dsss


from dsss import *





import math
for i in range(10):
    try:
        input_number=input('write a number')
        if input_number == 'q':
            break
        result=math.log(float(input_number))
        print(result)
    except ValueError:
        print('ValueError')
    except Exception:
        print('unknow Exception')


# 自定义异常
class DssError


class people:
    "帮助信息：__doc__"
    number = 100
    def __init__(self,name,age):
        self.name=name
        self.age=age
    def display(self):
        print('number=:',people.number)
    def display_name(self):
        print(self.name)


people.__doc__


p1=people('dss',32)
p1.name
p2=people('dss2',33)
p2.number=400
p2.number
p2.display()
hasattr(p1,'age')
getattr(p1,'age')
setattr(p1,'age',100)
getattr(p1,'age')


people.__doc__
# people.__name__
# people.__module__
# people.__bases__
# people.__dict__


class Parent:
    number = 100
    def __init__(self):
        print('调用父类构造函数')
    def parentM(self):
        print('调用父类的方法')
    def setAttr(self,attr):
        Parent.parentAttr=attr
    def getAttr(self):
        print('父类的属性：',Parent.parentAttr)
    def newM(self):
        print('父类要重新的方法')

class child(Parent):
    def __init__(self):
        print('调用子类的构造函数')
    def childM(self):
        print('调用子类的方法')
    def newM(self):
        print('子类覆盖的方法')


c=child()
# c.childM()
# c.parentM()
# c.setAttr(100)
# c.getAttr()





import time
time.time() 
time.localtime(time.time())


print(time.asctime())


print(time.strftime('%Y-%m-%d %H:%M:%S'))


import calendar
print(calendar.month(2017,12))


help(calendar.month)


## 练习题


for i in range(1,5):
    for j in range(1,5):
        for k in range(1,5):
            if (i!=j) and (j!=k) and (k!=i):
                print(i,j,k)


my_list =[]
for i in range(3):
    x=int(input())
    my_list.append(x)
my_list.sort()
my_list


import time
print(time.strftime('%Y-%m-%d %H:%M:%S'))
time.sleep(1)
print(time.strftime('%Y-%m-%d %H:%M:%S'))
time.sleep(2)
print(time.strftime('%Y-%m-%d %H:%M:%S'))

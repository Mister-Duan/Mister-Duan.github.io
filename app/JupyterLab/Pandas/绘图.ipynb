{
 "cells": [
  {
   "cell_type": "markdown",
   "id": "6eb07163-d8bb-40ed-afc1-88ff69f1cc1d",
   "metadata": {},
   "source": [
    "# 绘图"
   ]
  },
  {
   "cell_type": "code",
   "execution_count": 21,
   "id": "b3548174-0d4a-4736-83c3-ea931f5e15a6",
   "metadata": {},
   "outputs": [],
   "source": [
    "%matplotlib inline\n",
    "import pandas as pd"
   ]
  },
  {
   "cell_type": "code",
   "execution_count": 69,
   "id": "73a2d82d-5c5b-4769-8736-77a7f68b68f8",
   "metadata": {},
   "outputs": [
    {
     "data": {
      "text/plain": [
       "<Axes: >"
      ]
     },
     "execution_count": 69,
     "metadata": {},
     "output_type": "execute_result"
    }
   ],
   "source": [
    "import numpy as np\n",
    "s=pd.Series(np.random.randn(10),index=np.arange(0,100,10))\n",
    "# s.plot.line()\n",
    "# help(s.plot.bar)\n",
    "s.plot.bar(x=np.random.randn(10),y=np.arange(0,100,10))"
   ]
  }
 ],
 "metadata": {
  "kernelspec": {
   "display_name": "Python [conda env:base] *",
   "language": "python",
   "name": "conda-base-py"
  },
  "language_info": {
   "codemirror_mode": {
    "name": "ipython",
    "version": 3
   },
   "file_extension": ".py",
   "mimetype": "text/x-python",
   "name": "python",
   "nbconvert_exporter": "python",
   "pygments_lexer": "ipython3",
   "version": "3.12.7"
  }
 },
 "nbformat": 4,
 "nbformat_minor": 5
}

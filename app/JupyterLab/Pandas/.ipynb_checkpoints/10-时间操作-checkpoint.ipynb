{
 "cells": [
  {
   "cell_type": "markdown",
   "id": "dc45ec77-455d-42e6-b1a8-f43323af7c6e",
   "metadata": {},
   "source": [
    "# 时间操作"
   ]
  },
  {
   "cell_type": "code",
   "execution_count": 8,
   "id": "417dbeae-14e1-4fb2-af6f-6fb2f8a83cf8",
   "metadata": {},
   "outputs": [
    {
     "data": {
      "text/plain": [
       "datetime.datetime(2017, 11, 24, 10, 30)"
      ]
     },
     "execution_count": 8,
     "metadata": {},
     "output_type": "execute_result"
    }
   ],
   "source": [
    "import datetime\n",
    "dt=datetime.datetime(year=2017,month=11,day=24,hour=10,minute=30)\n",
    "dt"
   ]
  },
  {
   "cell_type": "code",
   "execution_count": 10,
   "id": "c2fa4adc-6490-4dc3-9def-a321c4f78b05",
   "metadata": {},
   "outputs": [
    {
     "name": "stdout",
     "output_type": "stream",
     "text": [
      "2017-11-24 10:30:00\n"
     ]
    }
   ],
   "source": [
    "print(dt)"
   ]
  },
  {
   "cell_type": "code",
   "execution_count": 12,
   "id": "9f2acb63-c97b-4bb9-9874-78a8995fd6ef",
   "metadata": {},
   "outputs": [
    {
     "data": {
      "text/plain": [
       "Timestamp('2017-11-24 00:00:00')"
      ]
     },
     "execution_count": 12,
     "metadata": {},
     "output_type": "execute_result"
    }
   ],
   "source": [
    "import pandas as pd\n",
    "ts = pd.Timestamp('2017-11-24')\n",
    "ts"
   ]
  },
  {
   "cell_type": "code",
   "execution_count": 16,
   "id": "f3b86f14-6671-4ae7-94fb-998837cd9d29",
   "metadata": {},
   "outputs": [
    {
     "data": {
      "text/plain": [
       "24"
      ]
     },
     "execution_count": 16,
     "metadata": {},
     "output_type": "execute_result"
    }
   ],
   "source": [
    "ts.month\n",
    "ts.day"
   ]
  },
  {
   "cell_type": "code",
   "execution_count": 18,
   "id": "2cddb6ac-2a36-49fb-acb1-c4aa4685cc52",
   "metadata": {},
   "outputs": [
    {
     "data": {
      "text/plain": [
       "Timestamp('2017-11-29 00:00:00')"
      ]
     },
     "execution_count": 18,
     "metadata": {},
     "output_type": "execute_result"
    }
   ],
   "source": [
    "ts + pd.Timedelta('5 days')"
   ]
  },
  {
   "cell_type": "code",
   "execution_count": 28,
   "id": "da3fa4db-dbab-4591-82ad-da0a1a9875a1",
   "metadata": {},
   "outputs": [
    {
     "data": {
      "text/plain": [
       "Timestamp('2017-11-24 00:00:00')"
      ]
     },
     "execution_count": 28,
     "metadata": {},
     "output_type": "execute_result"
    }
   ],
   "source": [
    "pd.to_datetime('2017-11-24')"
   ]
  },
  {
   "cell_type": "code",
   "execution_count": 34,
   "id": "fce2265c-aa04-4e6f-91fa-9d0108457603",
   "metadata": {},
   "outputs": [
    {
     "data": {
      "text/plain": [
       "0    2017-11-24\n",
       "1    2017-11-29\n",
       "2    2018-11-24\n",
       "dtype: object"
      ]
     },
     "execution_count": 34,
     "metadata": {},
     "output_type": "execute_result"
    }
   ],
   "source": [
    "s=pd.Series(['2017-11-24','2017-11-29','2018-11-24'])\n",
    "s"
   ]
  },
  {
   "cell_type": "code",
   "execution_count": 38,
   "id": "f8fe548f-c2bf-4b0c-ae41-d1fcca5abe26",
   "metadata": {},
   "outputs": [
    {
     "data": {
      "text/plain": [
       "0   2017-11-24\n",
       "1   2017-11-29\n",
       "2   2018-11-24\n",
       "dtype: datetime64[ns]"
      ]
     },
     "execution_count": 38,
     "metadata": {},
     "output_type": "execute_result"
    }
   ],
   "source": [
    "ts=pd.to_datetime(s)\n",
    "ts"
   ]
  },
  {
   "cell_type": "code",
   "execution_count": 46,
   "id": "900cc7b0-d2ed-4318-8e27-268e6877047b",
   "metadata": {},
   "outputs": [
    {
     "data": {
      "text/plain": [
       "0    0\n",
       "1    0\n",
       "2    0\n",
       "dtype: int32"
      ]
     },
     "execution_count": 46,
     "metadata": {},
     "output_type": "execute_result"
    }
   ],
   "source": [
    "ts.dt.day\n",
    "ts.dt.hour"
   ]
  },
  {
   "cell_type": "code",
   "execution_count": 50,
   "id": "b3f51694-8143-4221-b7da-7b37c6e491aa",
   "metadata": {},
   "outputs": [
    {
     "data": {
      "text/plain": [
       "0   2017-11-24 00:00:00\n",
       "1   2017-11-24 12:00:00\n",
       "2   2017-11-25 00:00:00\n",
       "3   2017-11-25 12:00:00\n",
       "4   2017-11-26 00:00:00\n",
       "5   2017-11-26 12:00:00\n",
       "6   2017-11-27 00:00:00\n",
       "7   2017-11-27 12:00:00\n",
       "8   2017-11-28 00:00:00\n",
       "9   2017-11-28 12:00:00\n",
       "dtype: datetime64[ns]"
      ]
     },
     "execution_count": 50,
     "metadata": {},
     "output_type": "execute_result"
    }
   ],
   "source": [
    "# 创建时间序列\n",
    "pd.Series(pd.date_range(start='2017-11-24',periods = 10,freq='12h'))"
   ]
  },
  {
   "cell_type": "code",
   "execution_count": 54,
   "id": "bc2368c2-ee34-4eff-8715-668818ff465d",
   "metadata": {},
   "outputs": [],
   "source": [
    "#从csv中解析数据直接将时间解析\n",
    "# data=pd.read_csv('./data/flowdata.csv',index_col=0,parse_dates=True)\n",
    "# data.head()"
   ]
  },
  {
   "cell_type": "code",
   "execution_count": null,
   "id": "e4afca49-194d-4ac3-a1c9-d0b5b69a6618",
   "metadata": {},
   "outputs": [],
   "source": [
    "# 取某一段时间中的数据\n",
    "data[pd.Timestamp('2012-01-01 09:00'):pd.Timestamp('2022-01-01 09:00')]\n",
    "data.tail() #取最后的几条数据"
   ]
  },
  {
   "cell_type": "code",
   "execution_count": null,
   "id": "fe6e5696-8b7f-4268-8d3f-83291797b674",
   "metadata": {},
   "outputs": [],
   "source": [
    "#查看一月份的数据\n",
    "data[data.index.month == 1]"
   ]
  },
  {
   "cell_type": "code",
   "execution_count": 58,
   "id": "6e961792-7be8-4dc6-b45b-ebaf2f278fd3",
   "metadata": {},
   "outputs": [],
   "source": [
    "#查看时间在8-12点区间中的数据\n",
    "# data[(data.index.hour > 8) * (data.index.hour > 12) ]\n",
    "# data.between_time('08:00','12:00')"
   ]
  },
  {
   "cell_type": "code",
   "execution_count": null,
   "id": "e4bdb32a-dada-442b-a9f3-a4196dbdbaa6",
   "metadata": {},
   "outputs": [],
   "source": [
    "# 重新取样 按天求平均\n",
    "data.resample(\"D\").mean().head()\n",
    "# 重新取样 按3天求平均\n",
    "data.resample(\"3D\").mean().head()"
   ]
  }
 ],
 "metadata": {
  "kernelspec": {
   "display_name": "Python [conda env:base] *",
   "language": "python",
   "name": "conda-base-py"
  },
  "language_info": {
   "codemirror_mode": {
    "name": "ipython",
    "version": 3
   },
   "file_extension": ".py",
   "mimetype": "text/x-python",
   "name": "python",
   "nbconvert_exporter": "python",
   "pygments_lexer": "ipython3",
   "version": "3.12.7"
  }
 },
 "nbformat": 4,
 "nbformat_minor": 5
}
